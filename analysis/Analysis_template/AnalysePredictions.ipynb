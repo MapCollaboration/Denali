{
 "cells": [
  {
   "cell_type": "code",
   "execution_count": null,
   "metadata": {},
   "outputs": [],
   "source": [
    "import yaml\n",
    "import numpy as np\n",
    "import pandas as pd\n",
    "import lhapdf as lh\n",
    "import matplotlib.pyplot as plt\n",
    "import MatplotlibSettings\n",
    "%matplotlib inline\n",
    "from collections import deque\n",
    "import copy\n",
    "import os\n",
    "import re\n",
    "from os import listdir\n",
    "pd.set_option(\"display.max_rows\", None, \"display.max_columns\", None)"
   ]
  },
  {
   "cell_type": "code",
   "execution_count": null,
   "metadata": {
    "code_folding": [
     0
    ]
   },
   "outputs": [],
   "source": [
    "# Fit folder\n",
    "FitFolder = \"../\""
   ]
  },
  {
   "cell_type": "code",
   "execution_count": null,
   "metadata": {
    "code_folding": [
     0
    ]
   },
   "outputs": [],
   "source": [
    "# Read and report chi2's\n",
    "with open(FitFolder + \"/Chi2s.yaml\", \"r\") as chi2file:\n",
    "    for chi2 in yaml.load(chi2file, Loader = yaml.CLoader):\n",
    "        for c in chi2.items(): \n",
    "            print(c[0],\"(Npt = \",c[1][\"Npt\"],\"): chi2 = \", c[1][\"chi2\"])"
   ]
  },
  {
   "cell_type": "code",
   "execution_count": null,
   "metadata": {},
   "outputs": [],
   "source": [
    "# Map config's observables to y-labels\n",
    "obs_map = {\"g1\":r\"$\\displaystyle{g_1}$\",\n",
    "           \"g1_F1\":r\"$\\displaystyle\\frac{g_1}{F_1}$\",\n",
    "           \"A1H\":r\"$\\displaystyle{A_1^H}$\",\n",
    "           \"a3\":r\"$\\displaystyle{a_3}$\",\n",
    "           \"a8\":r\"$\\displaystyle{a_8}$\"}\n",
    "\n",
    "# Open config file\n",
    "config = yaml.load(open(FitFolder + \"/config.yaml\", \"r\"), Loader = yaml.CLoader)\n",
    "\n",
    "exps = [names[\"name\"] for names in config.get(\"Data\")[\"sets\"]] \n",
    "ylabels = dict()\n",
    "plotfile = dict()\n",
    "xlims = dict()\n",
    "xlog = dict()\n",
    "binints = dict()\n",
    "ylims1 = dict()\n",
    "\n",
    "\n",
    "for dataset in config.get(\"Data\")[\"sets\"]:\n",
    "    \n",
    "    with open(FitFolder + \"/data/\" + dataset['file'], \"r\") as FileName:\n",
    "        data = yaml.load(FileName, Loader = yaml.CLoader)\n",
    "        plotfile[dataset['name']] = dataset['file'].replace(\".yaml\", \"\")\n",
    "        xlog[dataset['name']] = True\n",
    "        \n",
    "        for ql in data['dependent_variables'][0]['qualifiers']:\n",
    "            if ql['name'] == \"observable\":\n",
    "                ylabels[dataset['name']] = obs_map[ql['value']]\n",
    "            elif ql['name'] == \"x\":\n",
    "                xlims[dataset['name']] = [ql['low'], ql['high']]\n",
    "                binints[dataset['name']] = ql['integrate']\n",
    "\n",
    "binints['a3 sum rule'] = False\n",
    "binints['a8 sum rule'] = False\n",
    "                \n",
    "#Create plots folder\n",
    "if not os.path.exists(FitFolder + \"/plots\"):\n",
    "    os.makedirs(FitFolder + \"/plots\")"
   ]
  },
  {
   "attachments": {},
   "cell_type": "markdown",
   "metadata": {},
   "source": [
    "## $\\chi^2$ profiles"
   ]
  },
  {
   "cell_type": "code",
   "execution_count": null,
   "metadata": {
    "code_folding": [
     0
    ],
    "scrolled": true
   },
   "outputs": [],
   "source": [
    "# Chi2 profiles\n",
    "for frep in [f.replace(\".yaml\", \"\") for f in sorted(listdir(FitFolder + \"/log/\"),  key=lambda s: int(s[s.find(\"_\")+1:s.find(\".\")]))]:\n",
    "    with open(FitFolder + \"/log/\" + frep + \".yaml\", \"r\") as rep:\n",
    "        replica = yaml.load(rep, Loader = yaml.CLoader)\n",
    "        ite   = [r[\"iteration\"]       for r in replica]\n",
    "        chi2t = [r[\"training chi2\"]   for r in replica]\n",
    "        chi2v = [r[\"validation chi2\"] for r in replica]\n",
    "        \n",
    "        plt.title(r\"\\textbf{\" + frep.replace(\"_\", \" \") + \"}\")\n",
    "        plt.ylabel(r\"\\textbf{Error function}\")\n",
    "        plt.xlabel(r\"\\textbf{Iteration}\")\n",
    "        plt.xscale(\"log\")\n",
    "        plt.yscale(\"log\")\n",
    "        plt.ylim(1, 10)\n",
    "        plt.xlim(10, 3000)\n",
    "        plt.plot(ite, chi2t, color = \"blue\", label = r\"\\textbf{Training}\")\n",
    "        plt.plot(ite, chi2v, color = \"red\",  label = r\"\\textbf{Validation}\")\n",
    "        plt.legend()\n",
    "        #plt.savefig(FitFolder + \"/\" + frep + \".pdf\")\n",
    "        plt.show()\n",
    "        plt.close()"
   ]
  },
  {
   "attachments": {},
   "cell_type": "markdown",
   "metadata": {},
   "source": [
    "## SIDIS + DIS: predictions Vs. experimental points"
   ]
  },
  {
   "cell_type": "code",
   "execution_count": null,
   "metadata": {
    "code_folding": [
     0
    ],
    "scrolled": false
   },
   "outputs": [],
   "source": [
    "# SIDIS + DIS\n",
    "with open(FitFolder + \"/Predictions.yaml\", \"r\") as p:\n",
    "    preds = yaml.load(p, Loader = yaml.CLoader)\n",
    "    for e in preds:\n",
    "        for exp, points in e.items():\n",
    "            #if (\"a3 sum rule\" in exp) or (\"a8 sum rule\" in exp):\n",
    "             #   continue\n",
    "            print(exp)\n",
    "            xav  = np.array([pt[\"xav\"] for pt in points])\n",
    "            excv = np.array([pt[\"exp. central value\"] for pt in points])\n",
    "            exun = np.array([pt[\"exp. unc.\"] for pt in points])\n",
    "            thcv = np.array([pt[\"prediction\"] for pt in points])\n",
    "            thun = np.array([pt[\"pred. unc.\"] for pt in points])\n",
    "\n",
    "            f, (ax1, ax2) = plt.subplots(2, 1, sharex = \"all\", gridspec_kw = dict(width_ratios = [1], height_ratios = [4, 1]))\n",
    "            plt.subplots_adjust(wspace = 0, hspace = 0)\n",
    "\n",
    "            # Upper panel\n",
    "            ax1.set_xlim(auto=True)\n",
    "            ax1.set_ylim(auto=True)\n",
    "            ax1.set_ylabel(ylabels[exp])\n",
    "            ax1.set_yscale(\"log\")\n",
    "            if xlog[exp]:\n",
    "                ax1.set_xscale(\"log\")\n",
    "            ax1.errorbar(xav, excv, exun, elinewidth = 2, capsize = 3, capthick = 1.5, markersize = 5, fmt = \"ko\")\n",
    "            if binints[exp]:\n",
    "                ax1.bar(xmin, 2 * thun, bottom = thcv - thun, width = xmax - xmin, align = \"edge\", color = \"red\", label = r\"\\textbf{NNLO + MAP FF1.0}\", alpha = 0.5)\n",
    "            else:\n",
    "                ax1.errorbar(xav, thcv, thun, elinewidth = 2, capsize = 3, capthick = 1.5, label = r\"\\textbf{NNLO + MAP FF1.0}\", markersize = 4, fmt = \"rs\")\n",
    "            ax1.legend(fontsize = 20)\n",
    "\n",
    "            # Lower panel\n",
    "            ax2.set_xlim(xlims[exp])\n",
    "            ax2.set_ylim(auto=True)\n",
    "            ax2.set_xlabel(r\"$x$\")\n",
    "            ax2.set_ylabel(r\"\\textbf{Ratio to Data}\", fontsize = 16)\n",
    "            if xlog[exp]:\n",
    "                ax2.set_xscale(\"log\")\n",
    "            ax2.axhline(y = 1, c = \"k\", ls = \"--\", lw = 1.5)\n",
    "            \n",
    "            ax2.errorbar(xav, excv/excv, exun/abs(excv), elinewidth = 2, capsize = 3, capthick = 1.5, markersize = 5, fmt = \"ko\")\n",
    "            if binints[exp]:\n",
    "                ax2.bar(xmin, 2 * thun/abs(excv), bottom = (thcv - thun)/abs(excv), width = xmax - xmin, align = \"edge\", color = \"red\", alpha = 0.5)\n",
    "            else:\n",
    "                ax2.errorbar(xav, thcv/abs(excv), thun/abs(excv), elinewidth = 2, capsize = 3, capthick = 1.5, markersize = 5, fmt = \"rs\")\n",
    "\n",
    "            #plt.savefig(FitFolder + \"/plots/\" + plotfile[exp] + \".pdf\")\n",
    "            plt.show()\n",
    "            plt.close()"
   ]
  },
  {
   "attachments": {},
   "cell_type": "markdown",
   "metadata": {},
   "source": [
    "## Polarised PDF plots"
   ]
  },
  {
   "cell_type": "code",
   "execution_count": null,
   "metadata": {
    "code_folding": [
     0
    ],
    "scrolled": true
   },
   "outputs": [],
   "source": [
    "# Upload sets and declare uncertainty type\n",
    "lh.pathsAppend(str(FitFolder))\n",
    "pdfs = [lh.mkPDFs(\"LHAPDFSet\"), lh.mkPDFs(\"NNPDFpol11_100\")]\n",
    "unc = [\"montecarlo\", \"montecarlo\"]\n",
    "colff = [\"red\", \"blue\"]\n",
    "nameff = [r\"\\textbf{MAPPDFpol1.0}\", r\"\\textbf{NNPDFpol1.1}\"]\n",
    "\n",
    "# Upload unpolarised PDF set\n",
    "unp_pdf = [lh.mkPDFs(\"NNPDF31_nnlo_pch_as_0118\")]\n",
    "unp_unc = [\"montecarlo\"]\n",
    "unp_color = \"green\"\n",
    "name_unp_pdf = r\"\\textbf{NNPDF3.1 nnlo}\"\n",
    "\n",
    "# Function that returns the central values\n",
    "def ComputeCentralValueAndUncertainty(x, Q, comb, pdfsets, unc_type):\n",
    "    centralvalue = []\n",
    "    uncertainty  = []\n",
    "    for s in zip(pdfsets, unc_type):\n",
    "        if s[1] == \"hessian\":\n",
    "            # In the case of a hessian set, use replica 0 as central value\n",
    "            cv = 0\n",
    "            f = s[0][0].xfxQ(x, Q)\n",
    "            for k, v in comb.items():\n",
    "                cv += v * f[k]\n",
    "            err = 0\n",
    "            for im in range(int((len(s[0]) - 1)/2)):\n",
    "                fp = s[0][2*im+1].xfxQ(x, Q)\n",
    "                fm = s[0][2*im+2].xfxQ(x, Q)\n",
    "                t = 0\n",
    "                for k, v in comb.items():\n",
    "                    t += v * fp[k]\n",
    "                    t -= v * fm[k]\n",
    "                err += t**2\n",
    "            centralvalue.append(cv)\n",
    "            uncertainty.append(np.sqrt(err)/2)            \n",
    "        elif s[1] == \"montecarlo\":\n",
    "            # In case of a MC set, compute the average and standard deviation (do not include replica 0)\n",
    "            cv  = 0\n",
    "            cv2 = 0\n",
    "            for irep in range(1, len(s[0])):\n",
    "                f = s[0][irep].xfxQ(x, Q)\n",
    "                t = 0\n",
    "                for k, v in comb.items():\n",
    "                    t += v * f[k]\n",
    "                cv  += t / ( len(s[0]) - 1 )\n",
    "                cv2 += t**2 / ( len(s[0]) - 1 )\n",
    "            centralvalue.append(cv)\n",
    "            uncertainty.append(np.sqrt(cv2 - cv**2))\n",
    "        else:\n",
    "            sys.exit(\"Unknown error: \", s[1])\n",
    "    return centralvalue, uncertainty\n",
    "\n",
    "# Function that computes polPDF in the chosen basis\n",
    "def ComputeCombintaion(x, comb, func):\n",
    "    temp = 0\n",
    "    for k, v in comb.items():\n",
    "        temp += v*func.xfxQ(k,x,Q)\n",
    "    return temp"
   ]
  },
  {
   "attachments": {},
   "cell_type": "markdown",
   "metadata": {},
   "source": [
    "### Polarised PDF plot settings"
   ]
  },
  {
   "cell_type": "code",
   "execution_count": null,
   "metadata": {
    "code_folding": [
     0
    ]
   },
   "outputs": [],
   "source": [
    "# Scale\n",
    "Q = 1\n",
    "\n",
    "# Grid in x\n",
    "xv = np.logspace(-5, -0.0001, 1000)\n",
    "\n",
    "# Combinations to be plotted\n",
    "# ----------------- Evolution basis --------------------\n",
    "combs_ev = [{21: 1},                                    # Delta_G\n",
    "            {1: 1, -1: 1, 2: 1, -2: 1, 3: 1, -3: 1},    # Delta_Sigma\n",
    "            {1: 1, -1: -1, 2: 1, -2: -1},               # Delta_V\n",
    "            {2: 1, -2: 1, 1: -1, -1: -1},               # Delta_T3\n",
    "            {2: 1, -2: -1, 1: -1, -1: 1},               # Delta_V3\n",
    "            {1: 1, -1: 1, 2: 1, -2: 1, 3: -2, -3: -2 }] # Delta_T8 \n",
    "labels_ev = [r\"$x \\Delta G(x,Q)$\", \n",
    "             r\"$x \\Delta \\Sigma(x,Q)$\", \n",
    "             r\"$x \\Delta V(x,Q)$\", \n",
    "             r\"$x \\Delta T_3(x,Q)$\",\n",
    "             r\"$x \\Delta V_3(x,Q)$\", \n",
    "             r\"$x \\Delta T_8(x,Q)$\"]\n",
    "pdfname_ev = [\"delta_G\", \n",
    "              \"delta_Sigma\", \n",
    "              \"delta_V\", \n",
    "              \"delta_T3\", \n",
    "              \"delta_V3\", \n",
    "              \"delta_T8\"]\n",
    "ylim_ev = [[-1, 1], \n",
    "           [-1, 1], \n",
    "           [-1, 1], \n",
    "           [-1, 1],\n",
    "           [-1, 1], \n",
    "           [-1, 1]]\n",
    "\n",
    "# ----------------- Flavour basis --------------------\n",
    "combs_flav = [{21: 1},  # Delta_G\n",
    "              {1: 1},   # Delta_d\n",
    "              {-1:1},   # Delta_dbar\n",
    "              {2: 1},   # Delta_u\n",
    "              {-2:1},   # Delta_ubar\n",
    "              {3:1},    # Delta_s\n",
    "              {-3:1}]   # Delta_sbar\n",
    "labels_flav = [r\"$x \\Delta g(x,Q)$\", \n",
    "               r\"$x \\Delta d(x,Q)$\", \n",
    "               r\"$x \\Delta \\overline{d}(x,Q)$\", \n",
    "               r\"$x \\Delta u(x,Q)$\",\n",
    "               r\"$x \\Delta \\overline{u}(x,Q)$\",\n",
    "               r\"$x \\Delta s(x,Q)$\",\n",
    "               r\"$x \\Delta \\overline{s}(x,Q)$\"]\n",
    "pdfname_flav = [\"Delta_G\", \n",
    "                \"Delta_d\", \n",
    "                \"Delta_dbar\", \n",
    "                \"Delta_u\", \n",
    "                \"Delta_ubar\", \n",
    "                \"Delta_s\",\n",
    "                \"Delta_sbar\"]\n",
    "ylim_flav = [[-1, 1], \n",
    "             [-0.3, 0.2], \n",
    "             [-0.15, 0.3], \n",
    "             [-0.25, 0.5], \n",
    "             [-0.15, 0.15], \n",
    "             [-0.10, 0.05],\n",
    "             [-0.10, 0.10]]"
   ]
  },
  {
   "attachments": {},
   "cell_type": "markdown",
   "metadata": {},
   "source": [
    "### Replicas"
   ]
  },
  {
   "cell_type": "code",
   "execution_count": null,
   "metadata": {
    "scrolled": false
   },
   "outputs": [],
   "source": [
    "show_unp = False\n",
    "\n",
    "# Run over combinations\n",
    "for cm in zip(combs_flav, labels_flav, pdfname_flav, ylim_flav) :\n",
    "    \n",
    "    # Set up the configuration of the plot\n",
    "    f, ax1 = plt.subplots(1,1, sharex = \"all\", gridspec_kw = dict(width_ratios = [1], height_ratios = [3]))\n",
    "\n",
    "    # Set the labels and the x-range\n",
    "    ax1.set_title(r\"$Q = \" + str(Q) + r\"$ \\textbf{GeV}\")\n",
    "    ax1.set_ylabel(cm[1])\n",
    "    ax1.set_xlim([0.001, 1])\n",
    "    ax1.set_ylim(cm[3])\n",
    "    ax1.plot(xv, xv - xv, color = \"black\", ls = \"--\", lw = 1, zorder=5)\n",
    "\n",
    "    # Plot comparative function    \n",
    "    ax1.plot(xv, [ComputeCombintaion(x, cm[0], pdfs[1][0]) for x in xv], ls = \"-\", lw = 2, color = colff[1], label=(nameff[1] + r\" \\textbf{replica 0}\"), zorder=10)\n",
    "\n",
    "    if 21 in cm[0].keys() and show_unp:\n",
    "\n",
    "        unp_fv  = np.zeros(shape=(xv.size, 1))\n",
    "        unp_dfv = np.zeros(shape=(xv.size, 1))\n",
    "\n",
    "        for i, x in enumerate(xv):\n",
    "            unp_fv[i], unp_dfv[i] = ComputeCentralValueAndUncertainty(x, Q, combs_flav[0], unp_pdf, unp_unc)\n",
    "\n",
    "        unp_fv = np.transpose(unp_fv)\n",
    "        unp_dfv = np.transpose(unp_dfv)\n",
    "        \n",
    "        ax1.plot(xv, unp_fv[0], color = \"green\", ls = \"-\", lw = 1)\n",
    "        ax1.fill_between(xv, unp_fv[0] + unp_dfv[0], unp_fv[0] - unp_dfv[0], color = \"green\", alpha = 0.4, label = name_unp_pdf)\n",
    "        ax1.plot(xv, -unp_fv[0], color = \"green\", ls = \"-\", lw = 1)\n",
    "        ax1.fill_between(xv, -unp_fv[0] + unp_dfv[0], -unp_fv[0] - unp_dfv[0], color = \"green\", alpha = 0.4)\n",
    "    \n",
    "    # Plot all replicas\n",
    "    for pdf in pdfs[0]:\n",
    "        ax1.plot(xv, [ComputeCombintaion(x, cm[0],pdf) for x in xv], ls = \"-\", lw = 0.2, color = colff[0], zorder=0)\n",
    "    \n",
    "    plt.legend()\n",
    "    #plt.savefig(FitFolder + \"plots/\" + cm[2])\n",
    "    plt.show()\n",
    "    plt.close()\n",
    "\n",
    "del f, ax1"
   ]
  },
  {
   "attachments": {},
   "cell_type": "markdown",
   "metadata": {},
   "source": [
    "### Plots polarised PDFs"
   ]
  },
  {
   "cell_type": "code",
   "execution_count": null,
   "metadata": {
    "code_folding": [
     0
    ],
    "scrolled": false
   },
   "outputs": [],
   "source": [
    "# Plot polPDFs\n",
    "for cm in zip(combs_flav, labels_flav, pdfname_flav, ylim_flav) :\n",
    "    fv  = np.zeros(shape=(xv.size, len(pdfs)))\n",
    "    dfv = np.zeros(shape=(xv.size, len(pdfs)))\n",
    "    \n",
    "    for i, x in enumerate(xv):\n",
    "        fv[i], dfv[i] = ComputeCentralValueAndUncertainty(x, Q, cm[0], pdfs, unc)\n",
    "        \n",
    "    fv = np.transpose(fv)\n",
    "    dfv = np.transpose(dfv)\n",
    "\n",
    "    # Setup plot\n",
    "    f, (ax1, ax2) = plt.subplots(2, 1, sharex = \"all\", gridspec_kw = dict(width_ratios = [1], height_ratios = [3, 1]))\n",
    "    plt.subplots_adjust(wspace = 0, hspace = 0)\n",
    "    \n",
    "    ax1.set_title(r\"$Q = \" + str(Q) + r\"$\\textbf{GeV} \\textbf{SIDIS + DIS + $a_3$ + $a_8$}\")\n",
    "    ax1.set_ylabel(cm[1])\n",
    "    ax1.set_xlim([0.001, 1])\n",
    "    ax1.set_xscale(\"log\")\n",
    "    ax1.set_ylim(cm[3])\n",
    "    \n",
    "    ax2.set_xlabel(r\"$x$\")\n",
    "    ax2.set_ylabel(r\"\\textbf{Ratio to}\" \"\\n\" r\"\" + nameff[0], fontsize = 16, labelpad=20.0)\n",
    "    ax2.set_xlim([0.001, 1])\n",
    "    ax2.set_xscale(\"log\")\n",
    "    ax2.set_ylim([0, 2])\n",
    "\n",
    "    for iset in range(len(fv)):\n",
    "        ax1.plot(xv, fv[iset], color = colff[iset], ls = \"-\", lw = 1)\n",
    "        ax1.fill_between(xv, np.array(fv[iset]) + np.array(dfv[iset]), np.array(fv[iset]) - np.array(dfv[iset]), color = colff[iset], alpha = 0.3, label = nameff[iset])\n",
    "        ax1.plot(xv, xv - xv, color = \"black\", ls = \"--\", lw = 1)\n",
    "        ax2.plot(xv, np.array(fv[iset])/np.array(fv[0]), color = colff[iset], ls = \"-\", lw = 1)\n",
    "        ax2.fill_between(xv, (np.array(fv[iset])+np.array(dfv[iset]))/np.array(fv[0]), (np.array(fv[iset])-np.array(dfv[iset]))/np.array(fv[0]), color = colff[iset], alpha = 0.3)\n",
    "    ax1.legend()\n",
    "\n",
    "    #plt.savefig(FitFolder + \"plots/\" + cm[2] + \".pdf\")\n",
    "    plt.show()\n",
    "    plt.close()\n",
    "    \n",
    "del f, ax1, ax2"
   ]
  },
  {
   "attachments": {},
   "cell_type": "markdown",
   "metadata": {},
   "source": [
    "### Positivity"
   ]
  },
  {
   "cell_type": "code",
   "execution_count": null,
   "metadata": {
    "scrolled": false
   },
   "outputs": [],
   "source": [
    "ylim = [[-1, 1], [-0.5, 0.5], [-0.3, 0.3], [-0.5, 0.5], [-0.3, 0.3], [-0.3, 0.3]]\n",
    "\n",
    "for cm in zip(combs_flav, labels_flav, pdfname_flav, ylim):\n",
    "    fv  = np.zeros(shape=(xv.size, len(pdfs)))\n",
    "    dfv = np.zeros(shape=(xv.size, len(pdfs)))\n",
    "    unp_fv  = np.zeros(shape=(xv.size, 1))\n",
    "    unp_dfv = np.zeros(shape=(xv.size, 1))\n",
    "\n",
    "    for i, x in enumerate(xv):\n",
    "        fv[i], dfv[i] = ComputeCentralValueAndUncertainty(x, Q, cm[0], pdfs, unc)\n",
    "        unp_fv[i], unp_dfv[i] = ComputeCentralValueAndUncertainty(x, Q, cm[0], unp_pdf, unp_unc)\n",
    "\n",
    "    fv = np.transpose(fv)\n",
    "    dfv = np.transpose(dfv)\n",
    "    unp_fv = np.transpose(unp_fv)\n",
    "    unp_dfv = np.transpose(unp_dfv)\n",
    "\n",
    "    # Setup plot\n",
    "    f, ax1 = plt.subplots(1,1, sharex = \"all\", gridspec_kw = dict(width_ratios = [1], height_ratios = [3]))\n",
    "    plt.subplots_adjust(wspace = 0, hspace = 0)\n",
    "\n",
    "    ax1.set_title(r\"$Q = \" + str(Q) + r\"$ \\textbf{GeV} \\textbf{SIDIS + DIS + $a_3$ + $a_8$}\")\n",
    "    ax1.set_ylabel(cm[1])\n",
    "    ax1.set_xlim([0.5, 1])\n",
    "    ax1.set_xscale(\"log\")\n",
    "    ax1.set_ylim(cm[3])\n",
    "\n",
    "    # Plot polarised PDFs\n",
    "    ax1.plot(xv, fv[0], color = colff[0], ls = \"-\", lw = 1)\n",
    "    ax1.fill_between(xv, np.array(fv[0]) + np.array(dfv[0]), np.array(fv[0]) - np.array(dfv[0]), color = colff[0], alpha = 0.4, label = nameff[0])\n",
    "    ax1.plot(xv, xv - xv, color = \"black\", ls = \"--\", lw = 1)\n",
    "\n",
    "    # Plot unpolarised PDFs\n",
    "    ax1.plot(xv, unp_fv[0], color = unp_color, ls = \"-\", lw = 1)\n",
    "    ax1.fill_between(xv, np.array(unp_fv[0]) + np.array(unp_dfv[0]), np.array(unp_fv[0]) - np.array(unp_dfv[0]), color = unp_color, alpha = 0.4, label = name_unp_pdf)\n",
    "    ax1.plot(xv, -unp_fv[0], color = unp_color, ls = \"-\", lw = 1)\n",
    "    ax1.fill_between(xv, np.array(-unp_fv[0]) + np.array(unp_dfv[0]), np.array(-unp_fv[0]) - np.array(unp_dfv[0]), color = unp_color, alpha = 0.4)\n",
    "    \n",
    "    ax1.legend()\n",
    "    \n",
    "    #plt.savefig(FitFolder + \"/plots/pos_\" + cm[2] + \".pdf\")\n",
    "    plt.show()\n",
    "    plt.close()"
   ]
  }
 ],
 "metadata": {
  "kernelspec": {
   "display_name": "Python 3 (ipykernel)",
   "language": "python",
   "name": "python3"
  },
  "language_info": {
   "codemirror_mode": {
    "name": "ipython",
    "version": 3
   },
   "file_extension": ".py",
   "mimetype": "text/x-python",
   "name": "python",
   "nbconvert_exporter": "python",
   "pygments_lexer": "ipython3",
   "version": "3.10.11"
  }
 },
 "nbformat": 4,
 "nbformat_minor": 4
}
